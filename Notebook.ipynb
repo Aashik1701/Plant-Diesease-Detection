{
  "nbformat": 4,
  "nbformat_minor": 0,
  "metadata": {
    "colab": {
      "provenance": [],
      "authorship_tag": "ABX9TyMTtsoubcjmCsnXxrSurYm4",
      "include_colab_link": true
    },
    "kernelspec": {
      "name": "python3",
      "display_name": "Python 3"
    },
    "language_info": {
      "name": "python"
    }
  },
  "cells": [
    {
      "cell_type": "markdown",
      "metadata": {
        "id": "view-in-github",
        "colab_type": "text"
      },
      "source": [
        "<a href=\"https://colab.research.google.com/github/Aashik1701/Plant-Diesease-Detection/blob/main/Notebook.ipynb\" target=\"_parent\"><img src=\"https://colab.research.google.com/assets/colab-badge.svg\" alt=\"Open In Colab\"/></a>"
      ]
    },
    {
      "cell_type": "code",
      "execution_count": 10,
      "metadata": {
        "id": "JM18_x1_hc_A"
      },
      "outputs": [],
      "source": [
        "import warnings\n",
        "warnings.filterwarnings('ignore')\n",
        "import pandas as pd\n",
        "import numpy as np\n",
        "import matplotlib.pyplot as plt\n",
        "import seaborn as sns\n",
        "import os\n",
        "import torch\n",
        "import torch.nn as nn\n",
        "from torch.utils.data import DataLoader\n",
        "from PIL import Image\n",
        "import torchvision\n",
        "import torchvision.transforms as transforms\n",
        "from torchvision.datasets import ImageFolder\n",
        "import torch.optim as optim\n",
        "import torch.nn.functional as F\n"
      ]
    },
    {
      "cell_type": "code",
      "source": [
        "Root_dir = \"https://github.com/Aashik1701/Plant-Diesease-Detection/tree/45f5b890caa08d7e596708b43f2f7f7459a06616/New%20Plant%20Diseases%20Dataset(Augmented)\"\n",
        "train_dir = Root_dir + \"/train\"\n",
        "valid_dir = Root_dir + \"/valid\"\n",
        "test_dir = \"https://github.com/Aashik1701/Plant-Diesease-Detection/tree/45f5b890caa08d7e596708b43f2f7f7459a06616/test\"\n",
        "Diseases_classes = os.listdir(train_dir)"
      ],
      "metadata": {
        "colab": {
          "base_uri": "https://localhost:8080/",
          "height": 193
        },
        "id": "AYnsZei_qm1t",
        "outputId": "5dfe1431-c009-44b1-d88b-5d7bedcf6052"
      },
      "execution_count": null,
      "outputs": [
        {
          "output_type": "error",
          "ename": "FileNotFoundError",
          "evalue": "[Errno 2] No such file or directory: 'https://github.com/Aashik1701/Plant-Diesease-Detection/tree/45f5b890caa08d7e596708b43f2f7f7459a06616/New%20Plant%20Diseases%20Dataset(Augmented)/train'",
          "traceback": [
            "\u001b[0;31m---------------------------------------------------------------------------\u001b[0m",
            "\u001b[0;31mFileNotFoundError\u001b[0m                         Traceback (most recent call last)",
            "\u001b[0;32m<ipython-input-8-00ee01be20ec>\u001b[0m in \u001b[0;36m<cell line: 5>\u001b[0;34m()\u001b[0m\n\u001b[1;32m      3\u001b[0m \u001b[0mvalid_dir\u001b[0m \u001b[0;34m=\u001b[0m \u001b[0mRoot_dir\u001b[0m \u001b[0;34m+\u001b[0m \u001b[0;34m\"/valid\"\u001b[0m\u001b[0;34m\u001b[0m\u001b[0;34m\u001b[0m\u001b[0m\n\u001b[1;32m      4\u001b[0m \u001b[0mtest_dir\u001b[0m \u001b[0;34m=\u001b[0m \u001b[0;34m\"https://github.com/Aashik1701/Plant-Diesease-Detection/tree/45f5b890caa08d7e596708b43f2f7f7459a06616/test\"\u001b[0m\u001b[0;34m\u001b[0m\u001b[0;34m\u001b[0m\u001b[0m\n\u001b[0;32m----> 5\u001b[0;31m \u001b[0mDiseases_classes\u001b[0m \u001b[0;34m=\u001b[0m \u001b[0mos\u001b[0m\u001b[0;34m.\u001b[0m\u001b[0mlistdir\u001b[0m\u001b[0;34m(\u001b[0m\u001b[0mtrain_dir\u001b[0m\u001b[0;34m)\u001b[0m\u001b[0;34m\u001b[0m\u001b[0;34m\u001b[0m\u001b[0m\n\u001b[0m",
            "\u001b[0;31mFileNotFoundError\u001b[0m: [Errno 2] No such file or directory: 'https://github.com/Aashik1701/Plant-Diesease-Detection/tree/45f5b890caa08d7e596708b43f2f7f7459a06616/New%20Plant%20Diseases%20Dataset(Augmented)/train'"
          ]
        }
      ]
    }
  ]
}